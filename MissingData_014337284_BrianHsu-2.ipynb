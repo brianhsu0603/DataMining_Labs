{
 "cells": [
  {
   "cell_type": "code",
   "execution_count": 3,
   "metadata": {},
   "outputs": [
    {
     "data": {
      "text/html": [
       "<div>\n",
       "<style scoped>\n",
       "    .dataframe tbody tr th:only-of-type {\n",
       "        vertical-align: middle;\n",
       "    }\n",
       "\n",
       "    .dataframe tbody tr th {\n",
       "        vertical-align: top;\n",
       "    }\n",
       "\n",
       "    .dataframe thead th {\n",
       "        text-align: right;\n",
       "    }\n",
       "</style>\n",
       "<table border=\"1\" class=\"dataframe\">\n",
       "  <thead>\n",
       "    <tr style=\"text-align: right;\">\n",
       "      <th></th>\n",
       "      <th>Embarked_C</th>\n",
       "      <th>Embarked_Q</th>\n",
       "      <th>Embarked_S</th>\n",
       "    </tr>\n",
       "  </thead>\n",
       "  <tbody>\n",
       "    <tr>\n",
       "      <td>0</td>\n",
       "      <td>0</td>\n",
       "      <td>0</td>\n",
       "      <td>1</td>\n",
       "    </tr>\n",
       "    <tr>\n",
       "      <td>1</td>\n",
       "      <td>1</td>\n",
       "      <td>0</td>\n",
       "      <td>0</td>\n",
       "    </tr>\n",
       "    <tr>\n",
       "      <td>2</td>\n",
       "      <td>0</td>\n",
       "      <td>0</td>\n",
       "      <td>1</td>\n",
       "    </tr>\n",
       "    <tr>\n",
       "      <td>3</td>\n",
       "      <td>0</td>\n",
       "      <td>0</td>\n",
       "      <td>1</td>\n",
       "    </tr>\n",
       "    <tr>\n",
       "      <td>4</td>\n",
       "      <td>0</td>\n",
       "      <td>0</td>\n",
       "      <td>1</td>\n",
       "    </tr>\n",
       "    <tr>\n",
       "      <td>...</td>\n",
       "      <td>...</td>\n",
       "      <td>...</td>\n",
       "      <td>...</td>\n",
       "    </tr>\n",
       "    <tr>\n",
       "      <td>886</td>\n",
       "      <td>0</td>\n",
       "      <td>0</td>\n",
       "      <td>1</td>\n",
       "    </tr>\n",
       "    <tr>\n",
       "      <td>887</td>\n",
       "      <td>0</td>\n",
       "      <td>0</td>\n",
       "      <td>1</td>\n",
       "    </tr>\n",
       "    <tr>\n",
       "      <td>888</td>\n",
       "      <td>0</td>\n",
       "      <td>0</td>\n",
       "      <td>1</td>\n",
       "    </tr>\n",
       "    <tr>\n",
       "      <td>889</td>\n",
       "      <td>1</td>\n",
       "      <td>0</td>\n",
       "      <td>0</td>\n",
       "    </tr>\n",
       "    <tr>\n",
       "      <td>890</td>\n",
       "      <td>0</td>\n",
       "      <td>1</td>\n",
       "      <td>0</td>\n",
       "    </tr>\n",
       "  </tbody>\n",
       "</table>\n",
       "<p>891 rows × 3 columns</p>\n",
       "</div>"
      ],
      "text/plain": [
       "     Embarked_C  Embarked_Q  Embarked_S\n",
       "0             0           0           1\n",
       "1             1           0           0\n",
       "2             0           0           1\n",
       "3             0           0           1\n",
       "4             0           0           1\n",
       "..          ...         ...         ...\n",
       "886           0           0           1\n",
       "887           0           0           1\n",
       "888           0           0           1\n",
       "889           1           0           0\n",
       "890           0           1           0\n",
       "\n",
       "[891 rows x 3 columns]"
      ]
     },
     "execution_count": 3,
     "metadata": {},
     "output_type": "execute_result"
    }
   ],
   "source": [
    "#original data (passengers without 'age' value excluded)\n",
    "\n",
    "import pandas as pd\n",
    "import numpy as np\n",
    "from scipy import stats\n",
    "import matplotlib.pyplot as plt\n",
    "\n",
    "\n",
    "titanic_df = pd.read_csv('train.csv')\n",
    "\n",
    "embarked = pd.get_dummies( titanic_df.Embarked , prefix='Embarked' )\n",
    "\n",
    "embarked\n",
    "\n",
    "\n"
   ]
  },
  {
   "cell_type": "code",
   "execution_count": 8,
   "metadata": {},
   "outputs": [
    {
     "name": "stdout",
     "output_type": "stream",
     "text": [
      "count    891.000000\n",
      "mean      29.699118\n",
      "std       13.002015\n",
      "min        0.420000\n",
      "25%       22.000000\n",
      "50%       29.699118\n",
      "75%       35.000000\n",
      "max       80.000000\n",
      "Name: Age_repl1, dtype: float64\n"
     ]
    }
   ],
   "source": [
    "# fill missing values with mean value\n",
    "\n",
    "import pandas as pd\n",
    "import numpy as np\n",
    "from scipy import stats\n",
    "\n",
    "titanic_df = pd.read_csv('train.csv')\n",
    "\n",
    "titanic_df['Age_repl1'] = titanic_df['Age']\n",
    "\n",
    "titanic_df['Age_repl1'].replace(np.nan, titanic_df['Age'].mean() , inplace=True)\n",
    "\n",
    "print(titanic_df['Age_repl1'].describe())"
   ]
  },
  {
   "cell_type": "code",
   "execution_count": 9,
   "metadata": {},
   "outputs": [
    {
     "name": "stdout",
     "output_type": "stream",
     "text": [
      "count    891.000000\n",
      "mean      29.361582\n",
      "std       13.019697\n",
      "min        0.420000\n",
      "25%       22.000000\n",
      "50%       28.000000\n",
      "75%       35.000000\n",
      "max       80.000000\n",
      "Name: Age_repl1, dtype: float64\n"
     ]
    }
   ],
   "source": [
    "# fill missing values with median value\n",
    "\n",
    "import pandas as pd\n",
    "import numpy as np\n",
    "from scipy import stats\n",
    "\n",
    "titanic_df = pd.read_csv('train.csv')\n",
    "\n",
    "titanic_df['Age_repl1'] = titanic_df['Age']\n",
    "\n",
    "titanic_df['Age_repl1'].replace(np.nan, titanic_df['Age'].median() , inplace=True)\n",
    "\n",
    "print(titanic_df['Age_repl1'].describe())"
   ]
  },
  {
   "cell_type": "code",
   "execution_count": 10,
   "metadata": {},
   "outputs": [
    {
     "name": "stdout",
     "output_type": "stream",
     "text": [
      "count    891.000000\n",
      "mean      28.566970\n",
      "std       13.199572\n",
      "min        0.420000\n",
      "25%       22.000000\n",
      "50%       24.000000\n",
      "75%       35.000000\n",
      "max       80.000000\n",
      "Name: Age_repl1, dtype: float64\n"
     ]
    }
   ],
   "source": [
    "# fill missing values with mode value\n",
    "\n",
    "import pandas as pd\n",
    "import numpy as np\n",
    "from scipy import stats\n",
    "\n",
    "titanic_df = pd.read_csv('train.csv')\n",
    "\n",
    "most_freq_age, count = stats.mode(titanic_df['Age'])\n",
    "\n",
    "age_mode = int(most_freq_age)\n",
    "\n",
    "titanic_df['Age_repl1'] = titanic_df['Age']\n",
    "\n",
    "titanic_df['Age_repl1'].replace(np.nan, age_mode, inplace=True)\n",
    "\n",
    "print(titanic_df['Age_repl1'].describe())"
   ]
  },
  {
   "cell_type": "code",
   "execution_count": 11,
   "metadata": {},
   "outputs": [
    {
     "name": "stdout",
     "output_type": "stream",
     "text": [
      "count    891.000000\n",
      "mean      33.731953\n",
      "std       15.320981\n",
      "min        0.420000\n",
      "25%       22.000000\n",
      "50%       32.000000\n",
      "75%       50.000000\n",
      "max       80.000000\n",
      "Name: Age_repl1, dtype: float64\n"
     ]
    }
   ],
   "source": [
    "# fill missing values with constant value\n",
    "\n",
    "import pandas as pd\n",
    "import numpy as np\n",
    "from scipy import stats\n",
    "\n",
    "titanic_df = pd.read_csv('train.csv')\n",
    "\n",
    "titanic_df['Age_repl1'] = titanic_df['Age']\n",
    "\n",
    "titanic_df['Age_repl1'].replace(np.nan, 50, inplace=True)\n",
    "\n",
    "print(titanic_df['Age_repl1'].describe())"
   ]
  },
  {
   "cell_type": "code",
   "execution_count": 30,
   "metadata": {},
   "outputs": [
    {
     "name": "stdout",
     "output_type": "stream",
     "text": [
      "count    891.000000\n",
      "mean      29.788892\n",
      "std       13.303306\n",
      "min        0.420000\n",
      "25%       22.000000\n",
      "50%       29.000000\n",
      "75%       36.642857\n",
      "max       80.000000\n",
      "Name: Age_repl1, dtype: float64\n"
     ]
    }
   ],
   "source": [
    "# fill missing values with rolling mean value\n",
    "\n",
    "import pandas as pd\n",
    "import numpy as np\n",
    "from scipy import stats\n",
    "\n",
    "titanic_df = pd.read_csv('train.csv')\n",
    "\n",
    "titanic_df['Age_repl1'] = titanic_df['Age']\n",
    "\n",
    "titanic_df['Age_repl1'].replace(np.nan, titanic_df['Age'].rolling(10, center = True, min_periods = 1).mean() , inplace=True)\n",
    "\n",
    "print(titanic_df['Age_repl1'].describe())"
   ]
  },
  {
   "cell_type": "code",
   "execution_count": null,
   "metadata": {},
   "outputs": [],
   "source": [
    "'''\n",
    "\n",
    "Part1\n",
    "\n",
    "Q: Which of the replacement strategies works best in terms of preserving overall dataset properties?\n",
    "\n",
    "A: Honestly, each strategy has its own pros, in terms of mean and std, here i'm going to choose rolling mean \n",
    "\n",
    "as my best strategy.\n",
    "\n",
    "'''"
   ]
  },
  {
   "cell_type": "code",
   "execution_count": null,
   "metadata": {},
   "outputs": [],
   "source": [
    "'''\n",
    "\n",
    "Part2\n",
    "\n",
    "I separate the passengers into two groups: male and female.\n",
    "\n",
    "Strategy used: rolling mean\n",
    "\n",
    "Findings:\n",
    "\n",
    "Obviously both mean and std of both male and female lowered a little bit and the amplitudes are approximately \n",
    "the same. As for the age at 25% rise a little bit for both male and female and the age at 75% lowered a little bit \n",
    "for both male and female, the amplitudes are approximately same too.\n",
    "\n",
    "'''"
   ]
  },
  {
   "cell_type": "code",
   "execution_count": 19,
   "metadata": {},
   "outputs": [
    {
     "name": "stdout",
     "output_type": "stream",
     "text": [
      "count    453.000000\n",
      "mean      30.726645\n",
      "std       14.678201\n",
      "min        0.420000\n",
      "25%       21.000000\n",
      "50%       29.000000\n",
      "75%       39.000000\n",
      "max       80.000000\n",
      "Name: Age, dtype: float64\n"
     ]
    }
   ],
   "source": [
    "#original data of male passengers (passengers without 'age' value excluded)\n",
    "\n",
    "import pandas as pd\n",
    "import numpy as np\n",
    "from scipy import stats\n",
    "\n",
    "titanic_df = pd.read_csv('train.csv')\n",
    "\n",
    "df_filtered = titanic_df[(titanic_df.Sex == 'male')]\n",
    "\n",
    "print(df_filtered['Age'].describe())\n"
   ]
  },
  {
   "cell_type": "code",
   "execution_count": 24,
   "metadata": {},
   "outputs": [
    {
     "name": "stdout",
     "output_type": "stream",
     "text": [
      "count    577.000000\n",
      "mean      30.355581\n",
      "std       13.021980\n",
      "min        0.420000\n",
      "25%       23.000000\n",
      "50%       29.000000\n",
      "75%       35.000000\n",
      "max       80.000000\n",
      "Name: Age_repl1, dtype: float64\n"
     ]
    }
   ],
   "source": [
    "#New data of male passengers \n",
    "\n",
    "import pandas as pd\n",
    "import numpy as np\n",
    "from scipy import stats\n",
    "\n",
    "titanic_df = pd.read_csv('train.csv')\n",
    "\n",
    "titanic_df = titanic_df[(titanic_df.Sex == 'male')]\n",
    "\n",
    "titanic_df['Age_repl1'] = titanic_df['Age']\n",
    "\n",
    "titanic_df['Age_repl1'].replace(np.nan, titanic_df['Age'].rolling(10, center = True, min_periods = 1).mean() , inplace=True)\n",
    "\n",
    "print(titanic_df['Age_repl1'].describe())"
   ]
  },
  {
   "cell_type": "code",
   "execution_count": 20,
   "metadata": {},
   "outputs": [
    {
     "name": "stdout",
     "output_type": "stream",
     "text": [
      "count    261.000000\n",
      "mean      27.915709\n",
      "std       14.110146\n",
      "min        0.750000\n",
      "25%       18.000000\n",
      "50%       27.000000\n",
      "75%       37.000000\n",
      "max       63.000000\n",
      "Name: Age, dtype: float64\n"
     ]
    }
   ],
   "source": [
    "#original data of female passengers (passengers without 'age' value excluded)\n",
    "\n",
    "import pandas as pd\n",
    "import numpy as np\n",
    "from scipy import stats\n",
    "\n",
    "titanic_df = pd.read_csv('train.csv')\n",
    "\n",
    "df_filtered = titanic_df[(titanic_df.Sex == 'female')]\n",
    "\n",
    "print(df_filtered['Age'].describe())"
   ]
  },
  {
   "cell_type": "code",
   "execution_count": 31,
   "metadata": {},
   "outputs": [
    {
     "name": "stdout",
     "output_type": "stream",
     "text": [
      "count    314.000000\n",
      "mean      27.979247\n",
      "std       13.066626\n",
      "min        0.750000\n",
      "25%       20.750000\n",
      "50%       27.000000\n",
      "75%       35.972222\n",
      "max       63.000000\n",
      "Name: Age_repl1, dtype: float64\n"
     ]
    }
   ],
   "source": [
    "#New data of female passengers \n",
    "\n",
    "import pandas as pd\n",
    "import numpy as np\n",
    "from scipy import stats\n",
    "\n",
    "titanic_df = pd.read_csv('train.csv')\n",
    "\n",
    "titanic_df = titanic_df[(titanic_df.Sex == 'female')]\n",
    "\n",
    "titanic_df['Age_repl1'] = titanic_df['Age']\n",
    "\n",
    "titanic_df['Age_repl1'].replace(np.nan, titanic_df['Age'].rolling(10, center = True, min_periods = 1).mean() , inplace=True)\n",
    "\n",
    "print(titanic_df['Age_repl1'].describe())"
   ]
  },
  {
   "cell_type": "code",
   "execution_count": null,
   "metadata": {},
   "outputs": [],
   "source": []
  }
 ],
 "metadata": {
  "kernelspec": {
   "display_name": "Python 3",
   "language": "python",
   "name": "python3"
  },
  "language_info": {
   "codemirror_mode": {
    "name": "ipython",
    "version": 3
   },
   "file_extension": ".py",
   "mimetype": "text/x-python",
   "name": "python",
   "nbconvert_exporter": "python",
   "pygments_lexer": "ipython3",
   "version": "3.8.3"
  }
 },
 "nbformat": 4,
 "nbformat_minor": 2
}
