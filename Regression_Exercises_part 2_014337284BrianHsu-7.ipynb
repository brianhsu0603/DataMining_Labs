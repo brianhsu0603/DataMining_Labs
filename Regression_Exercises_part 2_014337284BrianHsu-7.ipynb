{
 "cells": [
  {
   "cell_type": "code",
   "execution_count": 10,
   "metadata": {},
   "outputs": [
    {
     "data": {
      "image/png": "[encoded data removed]",
      "text/plain": [
       "<Figure size 432x288 with 2 Axes>"
      ]
     },
     "metadata": {
      "needs_background": "light"
     },
     "output_type": "display_data"
    },
    {
     "data": {
      "text/plain": [
       "<matplotlib.axes._subplots.AxesSubplot at 0x7ff0a7bbf9d0>"
      ]
     },
     "execution_count": 10,
     "metadata": {},
     "output_type": "execute_result"
    }
   ],
   "source": [
    "import pandas as pd\n",
    "import numpy as np\n",
    "from sklearn import preprocessing as pre\n",
    "from sklearn.datasets import load_wine\n",
    "import seaborn as sns \n",
    "import matplotlib.pyplot as plt\n",
    "from sklearn.linear_model import LinearRegression\n",
    "from sklearn.model_selection import train_test_split\n",
    "from yellowbrick.regressor import ResidualsPlot\n",
    "\n",
    "x = [8,8,8,8,8,8,8,19,8,8,8]\n",
    "y = [6.58,5.76,7.71,8.84,8.47,7.04,5.25,12.5,5.56,7.91,6.89]\n",
    "x = pd.DataFrame(x).to_numpy()\n",
    "y = pd.DataFrame(y).to_numpy()\n",
    "x_train,x_test,y_train,y_test = train_test_split(x,y,test_size = 0.3, random_state = 42)\n",
    "regr = LinearRegression()\n",
    "visualizer = ResidualsPlot(regr)\n",
    "visualizer.fit(x_train,y_train)\n",
    "visualizer.score(x_test,y_test)\n",
    "visualizer.show()\n"
   ]
  },
  {
   "cell_type": "code",
   "execution_count": 28,
   "metadata": {},
   "outputs": [
    {
     "name": "stdout",
     "output_type": "stream",
     "text": [
      "Single Training Test Split: \n",
      "\n",
      "0.739112484466071\n",
      "\n",
      "\n",
      "2-fold\n",
      "\n",
      "[ 0.57422268 -0.02502349]\n",
      "0.2745995933294306\n",
      "\n",
      "\n",
      "3-fold\n",
      "\n",
      "[-0.39302194  0.33576336 -1.68109816]\n",
      "-0.5794522475557747\n",
      "\n",
      "\n",
      "5-fold\n",
      "\n",
      "[ 0.51223497  0.49469916  0.31715765  0.58266596 -0.10910155]\n",
      "0.35953123792481734\n",
      "\n",
      "\n",
      "10-fold\n",
      "\n",
      "[ 0.59421468  0.6540207   0.48658507  0.47686093  0.35141176  0.37755854\n",
      "  0.29991271  0.25607146 -0.08959804  0.12418994]\n",
      "0.35312277512815843\n"
     ]
    }
   ],
   "source": [
    "from sklearn.model_selection import cross_val_score\n",
    "import math\n",
    "\n",
    "data = load_wine()\n",
    "standard = pre.StandardScaler()\n",
    "data.data = standard.fit_transform(data.data)\n",
    "df = pd.DataFrame(data.data, columns=data.feature_names)\n",
    "x = pd.DataFrame(df[['flavanoids','alcohol','malic_acid','ash','alcalinity_of_ash','magnesium','nonflavanoid_phenols','proanthocyanins','hue','proline','od280/od315_of_diluted_wines','color_intensity']]).to_numpy()\n",
    "y = pd.DataFrame(df['total_phenols']).to_numpy()\n",
    "x_train,x_test,y_train,y_test = train_test_split(x,y,test_size = 0.3, random_state = 42)\n",
    "regr = LinearRegression()\n",
    "regr.fit(x_train,y_train)\n",
    "\n",
    "print (\"Single Training Test Split: \" + \"\\n\" )\n",
    "print (regr.score(x_test,y_test))\n",
    "print(\"\\n\")\n",
    "print(\"2-fold\" + \"\\n\")\n",
    "print(cross_val_score(regr,x,y,cv = 2))\n",
    "print((cross_val_score(regr,x,y,cv = 2)).mean())\n",
    "print(\"\\n\")\n",
    "print(\"3-fold\" + \"\\n\")\n",
    "print(cross_val_score(regr,x,y,cv = 3))\n",
    "print((cross_val_score(regr,x,y,cv = 3)).mean())\n",
    "print(\"\\n\")\n",
    "print(\"5-fold\" + \"\\n\")\n",
    "print(cross_val_score(regr,x,y,cv = 5))\n",
    "print((cross_val_score(regr,x,y,cv = 5)).mean())\n",
    "print(\"\\n\")\n",
    "print(\"10-fold\" + \"\\n\")\n",
    "print(cross_val_score(regr,x,y,cv = 10))\n",
    "print((cross_val_score(regr,x,y,cv = 10)).mean())"
   ]
  },
  {
   "cell_type": "code",
   "execution_count": 3,
   "metadata": {},
   "outputs": [],
   "source": [
    "# Two observation not in my expectations:\n",
    "# The Score is not positively correlated with the number of folds.\n",
    "# Compared to the single training test split, cross validations have lower R2 scores."
   ]
  },
  {
   "cell_type": "code",
   "execution_count": 25,
   "metadata": {},
   "outputs": [
    {
     "data": {
      "text/plain": [
       "array([[ 1.        ,  1.03481896,  1.51861254, ...,  3.41480672,\n",
       "         0.46515249,  0.06336137],\n",
       "       [ 1.        ,  0.73362894,  0.24628963, ...,  1.23976935,\n",
       "        -0.32659843,  0.0860374 ],\n",
       "       [ 1.        ,  1.21553297,  0.19687903, ...,  0.62187017,\n",
       "         0.21214552,  0.07237157],\n",
       "       ...,\n",
       "       [ 1.        , -1.34458217,  0.33275817, ...,  2.20654827,\n",
       "        -3.30398127,  4.94722566],\n",
       "       [ 1.        , -1.35462184,  0.20923168, ...,  1.96195743,\n",
       "        -2.57017463,  3.36694237],\n",
       "       [ 1.        , -1.2743045 ,  1.39508604, ...,  2.04189172,\n",
       "        -2.56019711,  3.21006702]])"
      ]
     },
     "execution_count": 25,
     "metadata": {},
     "output_type": "execute_result"
    }
   ],
   "source": [
    "from sklearn.preprocessing import PolynomialFeatures\n",
    "\n",
    "poly = PolynomialFeatures(2)\n",
    "poly.fit_transform(x)"
   ]
  },
  {
   "cell_type": "code",
   "execution_count": 5,
   "metadata": {},
   "outputs": [
    {
     "data": {
      "text/plain": [
       "array([[ 1.        ,  1.03481896,  1.51861254, ...,  0.85956439,\n",
       "         0.11708672,  0.01594913],\n",
       "       [ 1.        ,  0.73362894,  0.24628963, ..., -0.36365079,\n",
       "         0.09579829, -0.02523661],\n",
       "       [ 1.        ,  1.21553297,  0.19687903, ...,  0.1672953 ,\n",
       "         0.05707131,  0.01946937],\n",
       "       ...,\n",
       "       [ 1.        , -1.34458217,  0.33275817, ...,  4.90788403,\n",
       "        -7.34883398, 11.00379727],\n",
       "       [ 1.        , -1.35462184,  0.20923168, ...,  3.60004079,\n",
       "        -4.7160725 ,  6.17807995],\n",
       "       [ 1.        , -1.2743045 ,  1.39508604, ...,  3.65838794,\n",
       "        -4.58701809,  5.7513679 ]])"
      ]
     },
     "execution_count": 5,
     "metadata": {},
     "output_type": "execute_result"
    }
   ],
   "source": [
    "poly = PolynomialFeatures(3)\n",
    "poly.fit_transform(x)"
   ]
  },
  {
   "cell_type": "code",
   "execution_count": 26,
   "metadata": {},
   "outputs": [
    {
     "data": {
      "text/plain": [
       "array([[ 1.00000000e+00,  1.03481896e+00,  1.51861254e+00, ...,\n",
       "         5.44631796e-02,  7.41877528e-03,  1.01055846e-03],\n",
       "       [ 1.00000000e+00,  7.33628941e-01,  2.46289627e-01, ...,\n",
       "        -3.12875694e-02,  8.24223556e-03, -2.17129193e-03],\n",
       "       [ 1.00000000e+00,  1.21553297e+00,  1.96879028e-01, ...,\n",
       "         1.21074235e-02,  4.13034065e-03,  1.40902925e-03],\n",
       "       ...,\n",
       "       [ 1.00000000e+00, -1.34458217e+00,  3.32758175e-01, ...,\n",
       "         2.42804098e+01, -3.63563401e+01,  5.44382682e+01],\n",
       "       [ 1.00000000e+00, -1.35462184e+00,  2.09231678e-01, ...,\n",
       "         1.21211299e+01, -1.58787443e+01,  2.08012392e+01],\n",
       "       [ 1.00000000e+00, -1.27430450e+00,  1.39508604e+00, ...,\n",
       "         1.17436705e+01, -1.47246355e+01,  1.84622764e+01]])"
      ]
     },
     "execution_count": 26,
     "metadata": {},
     "output_type": "execute_result"
    }
   ],
   "source": [
    "poly = PolynomialFeatures(5)\n",
    "poly.fit_transform(x)"
   ]
  },
  {
   "cell_type": "code",
   "execution_count": 7,
   "metadata": {},
   "outputs": [],
   "source": [
    "# As the number of features increases, the number of combinations(interactions) of the two features increases.  "
   ]
  },
  {
   "cell_type": "code",
   "execution_count": 27,
   "metadata": {},
   "outputs": [
    {
     "name": "stdout",
     "output_type": "stream",
     "text": [
      "R2 score: 0.7391124844660718\n",
      "Coefficient: [[ 0.7266341  -0.00356771  0.05752865 -0.03143549  0.01390749  0.01295024\n",
      "  -0.02307197  0.03806437  0.02353585  0.08053915  0.15693274  0.09620514]]\n",
      "R2 score: 0.7413545575927095\n",
      "Coefficient: [[ 0.70274659 -0.00078234  0.05339981 -0.02388143  0.00984453  0.01068372\n",
      "  -0.02617519  0.04693349  0.02474024  0.07957545  0.16471008  0.09554188]]\n",
      "R2 score: 0.7459276593915372\n",
      "Coefficient: [[ 0.62775236  0.00872543  0.04045938 -0.00116714 -0.00210504  0.00432192\n",
      "  -0.03594594  0.07421206  0.02863494  0.07778534  0.18611523  0.0907315 ]]\n"
     ]
    }
   ],
   "source": [
    "from sklearn.linear_model import Ridge\n",
    "\n",
    "x_train,x_test,y_train,y_test = train_test_split(x,y,test_size = 0.3, random_state = 42)\n",
    "\n",
    "ridge1 = Ridge(alpha = 0.0)\n",
    "ridge1.fit(x_train,y_train)\n",
    "print(\"R2 score: \" +str(ridge1.score(x_test,y_test)))\n",
    "print(\"Coefficient: \" + str(ridge1.coef_))\n",
    "\n",
    "ridge2 = Ridge(alpha = 1.0)\n",
    "ridge2.fit(x_train,y_train)\n",
    "print(\"R2 score: \" +str(ridge2.score(x_test,y_test)))\n",
    "print(\"Coefficient: \" + str(ridge2.coef_))\n",
    "\n",
    "ridge3 = Ridge(alpha = 5.0)\n",
    "ridge3.fit(x_train,y_train)\n",
    "print(\"R2 score: \" +str(ridge3.score(x_test,y_test)))\n",
    "print(\"Coefficient: \" + str(ridge3.coef_))"
   ]
  },
  {
   "cell_type": "code",
   "execution_count": 9,
   "metadata": {},
   "outputs": [],
   "source": [
    "# The regularization does help, as the value of alpha increases, the value of R2 increases.\n",
    "# The model coefficients/weights decreases when we regularize the data more (value of alpha increases)"
   ]
  }
 ],
 "metadata": {
  "kernelspec": {
   "display_name": "Python 3",
   "language": "python",
   "name": "python3"
  },
  "language_info": {
   "codemirror_mode": {
    "name": "ipython",
    "version": 3
   },
   "file_extension": ".py",
   "mimetype": "text/x-python",
   "name": "python",
   "nbconvert_exporter": "python",
   "pygments_lexer": "ipython3",
   "version": "3.8.3"
  }
 },
 "nbformat": 4,
 "nbformat_minor": 2
}
